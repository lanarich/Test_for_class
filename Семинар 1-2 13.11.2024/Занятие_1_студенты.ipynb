{
 "cells": [
  {
   "cell_type": "markdown",
   "metadata": {},
   "source": [
    " # Занятие №1"
   ]
  },
  {
   "cell_type": "code",
   "execution_count": 1,
   "metadata": {
    "collapsed": true
   },
   "outputs": [
    {
     "name": "stdout",
     "output_type": "stream",
     "text": [
      "Yankees rule!\n",
      "But not in Boston!\n",
      "Yankees rule, but not in Boston!\n"
     ]
    }
   ],
   "source": [
    "print('Yankees rule!')\n",
    "print('But not in Boston!')\n",
    "print('Yankees rule,', 'but not in Boston!')"
   ]
  },
  {
   "cell_type": "code",
   "execution_count": 3,
   "metadata": {
    "collapsed": true
   },
   "outputs": [],
   "source": [
    "pi = 3\n",
    "radius = 11\n",
    "area = pi * (radius**2)\n",
    "radius = 14"
   ]
  },
  {
   "cell_type": "markdown",
   "metadata": {
    "collapsed": true
   },
   "source": [
    "### Задание №1: вывести на экран \"Площадь круга равна ...<значение>\""
   ]
  },
  {
   "cell_type": "code",
   "execution_count": 5,
   "metadata": {
    "collapsed": true
   },
   "outputs": [
    {
     "name": "stdout",
     "output_type": "stream",
     "text": [
      "Площадь круга равна 363 Привет как дела?\n"
     ]
    }
   ],
   "source": [
    "print(\"Площадь круга равна\", area, 'Привет как дела?')"
   ]
  },
  {
   "cell_type": "code",
   "execution_count": 8,
   "metadata": {
    "collapsed": true
   },
   "outputs": [
    {
     "name": "stdout",
     "output_type": "stream",
     "text": [
      "Площадь круга = 363. Этот круг не большой.\n"
     ]
    }
   ],
   "source": [
    "a = f'Площадь круга = {area}. Этот круг не большой.'\n",
    "print(a)"
   ]
  },
  {
   "cell_type": "markdown",
   "metadata": {
    "collapsed": true
   },
   "source": [
    "### Задание №2: Написать обмен значениями x, y без использования подхода выше"
   ]
  },
  {
   "cell_type": "code",
   "execution_count": null,
   "metadata": {
    "collapsed": true
   },
   "outputs": [
    {
     "name": "stdout",
     "output_type": "stream",
     "text": [
      "3 2\n"
     ]
    }
   ],
   "source": [
    "x = 2\n",
    "y = 3\n",
    "\n",
    "c = x\n",
    "x = y\n",
    "y = c\n",
    "\n",
    "print(x, y)\n",
    "\n"
   ]
  },
  {
   "cell_type": "code",
   "execution_count": 10,
   "metadata": {
    "collapsed": true
   },
   "outputs": [
    {
     "name": "stdout",
     "output_type": "stream",
     "text": [
      "3 2\n"
     ]
    }
   ],
   "source": [
    "x = 2\n",
    "y = 3\n",
    "x, y = y, x\n",
    "print(x, y)"
   ]
  },
  {
   "cell_type": "code",
   "execution_count": 13,
   "metadata": {},
   "outputs": [
    {
     "name": "stdout",
     "output_type": "stream",
     "text": [
      "2 3 9\n"
     ]
    }
   ],
   "source": [
    "x, y, z = 2, 3, 9\n",
    "\n",
    "print(x, y, z)"
   ]
  },
  {
   "cell_type": "markdown",
   "metadata": {},
   "source": [
    "### Задание №3: Написать код, который ищет проверяет кратность на 2,3,5 (30) и обрабатывает все оставшиеся случаи."
   ]
  },
  {
   "cell_type": "code",
   "execution_count": 20,
   "metadata": {
    "collapsed": true
   },
   "outputs": [
    {
     "name": "stdout",
     "output_type": "stream",
     "text": [
      "7 ни на что не делится\n"
     ]
    }
   ],
   "source": [
    "x = int(input())\n",
    "\n",
    "if x % 2 == 0:\n",
    "    a = 'делится на 2'\n",
    "else: \n",
    "    a = ''\n",
    "\n",
    "if x % 3 == 0:\n",
    "    b = 'делится на 3'\n",
    "else: \n",
    "    b = ''\n",
    "\n",
    "if x % 5 == 0:\n",
    "    c = 'делится на 5'\n",
    "else: \n",
    "    c = ''\n",
    "\n",
    "if a == '' and b == '' and c == '':\n",
    "    print(f'{x} ни на что не делится')\n",
    "else:\n",
    "    print(f'{x} {a} {b} {c}')\n"
   ]
  },
  {
   "cell_type": "code",
   "execution_count": null,
   "metadata": {
    "collapsed": true
   },
   "outputs": [],
   "source": []
  },
  {
   "cell_type": "code",
   "execution_count": null,
   "metadata": {
    "collapsed": true
   },
   "outputs": [],
   "source": []
  },
  {
   "cell_type": "markdown",
   "metadata": {
    "collapsed": true
   },
   "source": [
    "### Задание №4: написать программу, которая считает сумму первых n чисел (for)"
   ]
  },
  {
   "cell_type": "code",
   "execution_count": null,
   "metadata": {
    "collapsed": true
   },
   "outputs": [],
   "source": [
    "12235 \n",
    "\n",
    "n = 3\n",
    "\n",
    "result = 5"
   ]
  },
  {
   "cell_type": "code",
   "execution_count": 27,
   "metadata": {},
   "outputs": [
    {
     "name": "stdout",
     "output_type": "stream",
     "text": [
      "1\n",
      "2\n",
      "2\n",
      "3\n",
      "5\n"
     ]
    }
   ],
   "source": [
    "x = input()\n",
    "n = int(input())\n",
    "res = 0\n",
    "a = 0\n",
    "\n",
    "\n",
    "for i in x:\n",
    "    print(i)\n",
    "    if a == n:\n",
    "        break\n",
    "    res += int(i)\n",
    "    a += 1\n",
    "\n",
    "print(res)"
   ]
  },
  {
   "cell_type": "code",
   "execution_count": 22,
   "metadata": {},
   "outputs": [
    {
     "name": "stdout",
     "output_type": "stream",
     "text": [
      "П\n",
      "р\n",
      "и\n",
      "в\n",
      "е\n",
      "т\n"
     ]
    }
   ],
   "source": [
    "for i in \"Привет\":\n",
    "    print(i)"
   ]
  },
  {
   "cell_type": "code",
   "execution_count": null,
   "metadata": {},
   "outputs": [],
   "source": [
    "4 \n",
    "15, 16, 17, 18"
   ]
  },
  {
   "cell_type": "markdown",
   "metadata": {
    "collapsed": true
   },
   "source": [
    "### Задание №5: написать программу, которая с помощью цикла while определяет, сколько гласных/согласных из перечисленных в подстроке"
   ]
  },
  {
   "cell_type": "code",
   "execution_count": null,
   "metadata": {
    "collapsed": true
   },
   "outputs": [],
   "source": []
  },
  {
   "cell_type": "markdown",
   "metadata": {},
   "source": [
    "### Задание №6: написать программу, для проверки, явлеятся ли число квадратом"
   ]
  },
  {
   "cell_type": "code",
   "execution_count": null,
   "metadata": {
    "collapsed": true
   },
   "outputs": [],
   "source": []
  },
  {
   "cell_type": "markdown",
   "metadata": {},
   "source": [
    "### Задание №7: Доработать код задания 6, для проверки является ли число кубом"
   ]
  },
  {
   "cell_type": "code",
   "execution_count": null,
   "metadata": {
    "collapsed": true
   },
   "outputs": [],
   "source": []
  },
  {
   "cell_type": "markdown",
   "metadata": {},
   "source": [
    "### Задание №8: Сделайте так, чтобы число секунд отображалось в виде \"дни:часы:минуты:секунды\""
   ]
  },
  {
   "cell_type": "code",
   "execution_count": null,
   "metadata": {
    "collapsed": true
   },
   "outputs": [],
   "source": []
  },
  {
   "cell_type": "markdown",
   "metadata": {},
   "source": [
    "### Задание №9: Сложите цифры целого числа"
   ]
  },
  {
   "cell_type": "code",
   "execution_count": null,
   "metadata": {
    "collapsed": true
   },
   "outputs": [],
   "source": []
  },
  {
   "cell_type": "markdown",
   "metadata": {},
   "source": [
    "### Задание №10: При заданном целом числе n вычислите n+nn+nnn"
   ]
  },
  {
   "cell_type": "code",
   "execution_count": null,
   "metadata": {
    "collapsed": true
   },
   "outputs": [],
   "source": []
  },
  {
   "cell_type": "markdown",
   "metadata": {},
   "source": [
    "### Задание №11: Для данного числа выведите одну цифру, которая встречается не реже остальных"
   ]
  },
  {
   "cell_type": "code",
   "execution_count": null,
   "metadata": {
    "collapsed": true
   },
   "outputs": [],
   "source": []
  },
  {
   "cell_type": "markdown",
   "metadata": {},
   "source": [
    "### Задание №12: Для данного числа выведите одну цифру, которая встречается не чаще остальных"
   ]
  },
  {
   "cell_type": "code",
   "execution_count": null,
   "metadata": {
    "collapsed": true
   },
   "outputs": [],
   "source": []
  },
  {
   "cell_type": "markdown",
   "metadata": {},
   "source": [
    "### Задание №13: Для двух заданных чисел выведите цифры, которые встречаются в записи обоих чисел"
   ]
  },
  {
   "cell_type": "code",
   "execution_count": null,
   "metadata": {
    "collapsed": true
   },
   "outputs": [],
   "source": []
  },
  {
   "cell_type": "code",
   "execution_count": null,
   "metadata": {
    "collapsed": true
   },
   "outputs": [],
   "source": [
    "#Find the cube root of a perfect cube\n",
    "x = int(input('Enter an integer: '))\n",
    "ans = 0\n",
    "while ans**3 < abs(x):\n",
    "    ans = ans + 1\n",
    "if ans**3 != abs(x):\n",
    "    print(x, 'is not a perfect cube')\n",
    "else:\n",
    "    if x < 0:\n",
    "        ans = -ans\n",
    "    print('Cube root of', x,'is', ans)"
   ]
  },
  {
   "cell_type": "code",
   "execution_count": null,
   "metadata": {
    "collapsed": true
   },
   "outputs": [],
   "source": [
    "x = 25\n",
    "epsilon = 0.01\n",
    "numGuesses = 0\n",
    "low = 0.0\n",
    "high = max(1.0, x)\n",
    "ans = (high + low)/2.0\n",
    "while abs(ans**2 - x) >= epsilon:\n",
    "    print('low =', low, 'high =', high, 'ans =', ans)\n",
    "    numGuesses += 1\n",
    "    if ans**2 < x:\n",
    "        low = ans\n",
    "    else:\n",
    "        high = ans\n",
    "    ans = (high + low)/2.0\n",
    "print('numGuesses =', numGuesses)\n",
    "print(ans, 'is close to square root of', x)"
   ]
  },
  {
   "cell_type": "code",
   "execution_count": null,
   "metadata": {
    "collapsed": true
   },
   "outputs": [],
   "source": [
    "x = 25\n",
    "epsilon = 0.01\n",
    "step = epsilon**2\n",
    "numGuesses = 0\n",
    "ans = 0.0\n",
    "while abs(ans**2 - x) >= epsilon and ans <= x:\n",
    "    ans += step\n",
    "    numGuesses += 1\n",
    "print('numGuesses =', numGuesses)\n",
    "if abs(ans**2 - x) >= epsilon:\n",
    "    print('Failed on square root of', x)\n",
    "else:\n",
    "    print(ans, 'is close to square root of', x)"
   ]
  }
 ],
 "metadata": {
  "kernelspec": {
   "display_name": "chat-llm-Uk3avZmV-py3.11",
   "language": "python",
   "name": "python3"
  },
  "language_info": {
   "codemirror_mode": {
    "name": "ipython",
    "version": 3
   },
   "file_extension": ".py",
   "mimetype": "text/x-python",
   "name": "python",
   "nbconvert_exporter": "python",
   "pygments_lexer": "ipython3",
   "version": "3.11.0"
  }
 },
 "nbformat": 4,
 "nbformat_minor": 2
}
