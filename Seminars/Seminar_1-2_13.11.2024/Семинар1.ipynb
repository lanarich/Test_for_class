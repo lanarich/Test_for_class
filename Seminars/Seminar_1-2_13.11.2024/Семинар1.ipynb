{
 "cells": [
  {
   "cell_type": "markdown",
   "metadata": {
    "id": "qo_i5B3s0JaY"
   },
   "source": [
    "## Основные типы данных"
   ]
  },
  {
   "cell_type": "code",
   "execution_count": null,
   "metadata": {},
   "outputs": [],
   "source": []
  },
  {
   "cell_type": "code",
   "execution_count": null,
   "metadata": {
    "id": "ML5YwZRmz1_4"
   },
   "outputs": [],
   "source": [
    "# int, float, str"
   ]
  },
  {
   "cell_type": "code",
   "execution_count": 1,
   "metadata": {
    "id": "9N5s40S90Vnq"
   },
   "outputs": [],
   "source": [
    "var_int = 5\n",
    "var_float = 2.5\n",
    "var_str = \"text\"\n",
    "var_str2 = 'text'"
   ]
  },
  {
   "cell_type": "markdown",
   "metadata": {
    "id": "x-xYQGlD097B"
   },
   "source": [
    "## Основные встроенные функции"
   ]
  },
  {
   "cell_type": "markdown",
   "metadata": {
    "id": "HtPfUt4d_JJN"
   },
   "source": [
    "### Type"
   ]
  },
  {
   "cell_type": "code",
   "execution_count": 2,
   "metadata": {
    "colab": {
     "base_uri": "https://localhost:8080/"
    },
    "id": "oSTnGp531CSP",
    "outputId": "0e625f3d-5afd-4ba0-cf3a-f9b2cd76cd48"
   },
   "outputs": [
    {
     "data": {
      "text/plain": [
       "int"
      ]
     },
     "execution_count": 2,
     "metadata": {},
     "output_type": "execute_result"
    }
   ],
   "source": [
    "type(var_int)"
   ]
  },
  {
   "cell_type": "code",
   "execution_count": null,
   "metadata": {
    "colab": {
     "base_uri": "https://localhost:8080/"
    },
    "id": "Z4FgxSit1J34",
    "outputId": "ecfaa141-5dd0-4517-d3c0-b8f644cc97c6"
   },
   "outputs": [
    {
     "data": {
      "text/plain": [
       "float"
      ]
     },
     "execution_count": 3,
     "metadata": {},
     "output_type": "execute_result"
    }
   ],
   "source": [
    "type(var_float)"
   ]
  },
  {
   "cell_type": "code",
   "execution_count": null,
   "metadata": {
    "colab": {
     "base_uri": "https://localhost:8080/"
    },
    "id": "UEZfiGe41J5z",
    "outputId": "6e7149f6-f609-496e-a132-d9500e149994"
   },
   "outputs": [
    {
     "data": {
      "text/plain": [
       "str"
      ]
     },
     "execution_count": 4,
     "metadata": {},
     "output_type": "execute_result"
    }
   ],
   "source": [
    "type(var_str)"
   ]
  },
  {
   "cell_type": "markdown",
   "metadata": {
    "id": "yd-m9fjp_K3t"
   },
   "source": [
    "### Input"
   ]
  },
  {
   "cell_type": "code",
   "execution_count": 7,
   "metadata": {
    "colab": {
     "base_uri": "https://localhost:8080/"
    },
    "id": "IKmlsBaI1Yg5",
    "outputId": "0622c39a-1c59-439a-d6e1-f580d85280ba"
   },
   "outputs": [
    {
     "data": {
      "text/plain": [
       "10"
      ]
     },
     "execution_count": 7,
     "metadata": {},
     "output_type": "execute_result"
    }
   ],
   "source": [
    "input_result = int(input())\n",
    "input_result"
   ]
  },
  {
   "cell_type": "code",
   "execution_count": 6,
   "metadata": {},
   "outputs": [
    {
     "data": {
      "text/plain": [
       "int"
      ]
     },
     "execution_count": 6,
     "metadata": {},
     "output_type": "execute_result"
    }
   ],
   "source": [
    "type(input_result)"
   ]
  },
  {
   "cell_type": "code",
   "execution_count": null,
   "metadata": {
    "colab": {
     "base_uri": "https://localhost:8080/",
     "height": 58
    },
    "id": "UlEo9wlg1rpp",
    "outputId": "022e7cee-a3db-4e35-b61e-507c08db23b7"
   },
   "outputs": [],
   "source": []
  },
  {
   "cell_type": "markdown",
   "metadata": {
    "id": "DQpW7m4q_OBr"
   },
   "source": [
    "### Кастование"
   ]
  },
  {
   "cell_type": "code",
   "execution_count": 8,
   "metadata": {},
   "outputs": [
    {
     "data": {
      "text/plain": [
       "'123'"
      ]
     },
     "execution_count": 8,
     "metadata": {},
     "output_type": "execute_result"
    }
   ],
   "source": [
    "'123'"
   ]
  },
  {
   "cell_type": "code",
   "execution_count": 9,
   "metadata": {
    "colab": {
     "base_uri": "https://localhost:8080/"
    },
    "id": "11sd6oAt_RMa",
    "outputId": "5e7762d8-0028-4bd1-e365-8185993e7d9c"
   },
   "outputs": [
    {
     "data": {
      "text/plain": [
       "123"
      ]
     },
     "execution_count": 9,
     "metadata": {},
     "output_type": "execute_result"
    }
   ],
   "source": [
    "# str -> int\n",
    "\n",
    "int('123')"
   ]
  },
  {
   "cell_type": "code",
   "execution_count": null,
   "metadata": {
    "colab": {
     "base_uri": "https://localhost:8080/"
    },
    "id": "tG-XwnDU_bMP",
    "outputId": "acecd805-a88d-401b-e488-7c7e22dd0dac"
   },
   "outputs": [
    {
     "data": {
      "text/plain": [
       "123.0"
      ]
     },
     "execution_count": 86,
     "metadata": {},
     "output_type": "execute_result"
    }
   ],
   "source": [
    "# str -> float\n",
    "\n",
    "float('123')"
   ]
  },
  {
   "cell_type": "code",
   "execution_count": null,
   "metadata": {
    "colab": {
     "base_uri": "https://localhost:8080/",
     "height": 232
    },
    "id": "5mOVFi6S2A99",
    "outputId": "673e2d38-9a07-468d-a133-35386b303bc2"
   },
   "outputs": [
    {
     "ename": "ValueError",
     "evalue": "ignored",
     "output_type": "error",
     "traceback": [
      "\u001b[0;31m---------------------------------------------------------------------------\u001b[0m",
      "\u001b[0;31mValueError\u001b[0m                                Traceback (most recent call last)",
      "\u001b[0;32m<ipython-input-83-d8d97ca8faed>\u001b[0m in \u001b[0;36m<cell line: 3>\u001b[0;34m()\u001b[0m\n\u001b[1;32m      1\u001b[0m \u001b[0;31m# Не работает, так как есть не численные символы\u001b[0m\u001b[0;34m\u001b[0m\u001b[0;34m\u001b[0m\u001b[0m\n\u001b[1;32m      2\u001b[0m \u001b[0;34m\u001b[0m\u001b[0m\n\u001b[0;32m----> 3\u001b[0;31m \u001b[0mint\u001b[0m\u001b[0;34m(\u001b[0m\u001b[0;34m'123as'\u001b[0m\u001b[0;34m)\u001b[0m\u001b[0;34m\u001b[0m\u001b[0;34m\u001b[0m\u001b[0m\n\u001b[0m",
      "\u001b[0;31mValueError\u001b[0m: invalid literal for int() with base 10: '123as'"
     ]
    }
   ],
   "source": [
    "# Не работает, так как есть не численные символы\n",
    "\n",
    "int('123as')"
   ]
  },
  {
   "cell_type": "code",
   "execution_count": null,
   "metadata": {
    "colab": {
     "base_uri": "https://localhost:8080/"
    },
    "id": "lyc8SyQi2BAO",
    "outputId": "10ff1b81-4160-477a-a398-16b8275a4783"
   },
   "outputs": [
    {
     "data": {
      "text/plain": [
       "5.0"
      ]
     },
     "execution_count": 84,
     "metadata": {},
     "output_type": "execute_result"
    }
   ],
   "source": [
    "# int -> float\n",
    "\n",
    "float(var_int)"
   ]
  },
  {
   "cell_type": "code",
   "execution_count": 10,
   "metadata": {
    "colab": {
     "base_uri": "https://localhost:8080/"
    },
    "id": "P-E_Jpd71rsP",
    "outputId": "8760269d-794f-4a0d-ea67-4c3f59730908"
   },
   "outputs": [
    {
     "name": "stdout",
     "output_type": "stream",
     "text": [
      "Было: 2.5\n",
      "Стало: 2\n"
     ]
    }
   ],
   "source": [
    "# float -> int. Не округление!\n",
    "\n",
    "print(\"Было:\", var_float)\n",
    "print(\"Стало:\", int(var_float))"
   ]
  },
  {
   "cell_type": "code",
   "execution_count": 11,
   "metadata": {
    "colab": {
     "base_uri": "https://localhost:8080/",
     "height": 58
    },
    "id": "tg_NUuwK3R03",
    "outputId": "f3392b5f-79c5-47b7-8abc-7e001fbbeadb"
   },
   "outputs": [
    {
     "data": {
      "text/plain": [
       "'2.5'"
      ]
     },
     "execution_count": 11,
     "metadata": {},
     "output_type": "execute_result"
    }
   ],
   "source": [
    "# float -> str\n",
    "\n",
    "str(var_float)"
   ]
  },
  {
   "cell_type": "markdown",
   "metadata": {
    "id": "nvFl98hcAlgr"
   },
   "source": [
    "### Print"
   ]
  },
  {
   "cell_type": "code",
   "execution_count": null,
   "metadata": {
    "colab": {
     "base_uri": "https://localhost:8080/"
    },
    "id": "7MponYxAApYy",
    "outputId": "c4323b80-2510-40cd-f69b-d6196f78d983"
   },
   "outputs": [
    {
     "name": "stdout",
     "output_type": "stream",
     "text": [
      "5\n"
     ]
    }
   ],
   "source": [
    "print(var_int)"
   ]
  },
  {
   "cell_type": "code",
   "execution_count": null,
   "metadata": {
    "colab": {
     "base_uri": "https://localhost:8080/"
    },
    "id": "hXM6qr5M2xRP",
    "outputId": "f49d2de2-c023-46ad-a9d6-e1e029429527"
   },
   "outputs": [
    {
     "name": "stdout",
     "output_type": "stream",
     "text": [
      "4567\n",
      "4568\n",
      "4569\n"
     ]
    }
   ],
   "source": [
    "print(4567)\n",
    "print(4568)\n",
    "print(4569)"
   ]
  },
  {
   "cell_type": "code",
   "execution_count": null,
   "metadata": {
    "colab": {
     "base_uri": "https://localhost:8080/"
    },
    "id": "yqCQ8u-I25pI",
    "outputId": "b7b03bc6-d16a-4bc8-876d-9ddb67f1f4d2"
   },
   "outputs": [
    {
     "name": "stdout",
     "output_type": "stream",
     "text": [
      "4567 4568 4569\n"
     ]
    }
   ],
   "source": [
    "print(4567, 4568, 4569)\n"
   ]
  },
  {
   "cell_type": "markdown",
   "metadata": {
    "id": "iiYrQSLL3aPQ"
   },
   "source": [
    "## Основные операции с численными типами"
   ]
  },
  {
   "cell_type": "code",
   "execution_count": null,
   "metadata": {
    "colab": {
     "base_uri": "https://localhost:8080/"
    },
    "id": "mxS1bx7v3ehB",
    "outputId": "146df93b-b705-4a41-fab9-9b8aba769d2f"
   },
   "outputs": [
    {
     "name": "stdout",
     "output_type": "stream",
     "text": [
      "5 2.5\n"
     ]
    }
   ],
   "source": [
    "print(var_int, var_float)"
   ]
  },
  {
   "cell_type": "markdown",
   "metadata": {
    "id": "zlFjm99mAtck"
   },
   "source": [
    "### Сложение"
   ]
  },
  {
   "cell_type": "code",
   "execution_count": null,
   "metadata": {
    "colab": {
     "base_uri": "https://localhost:8080/"
    },
    "id": "fchsVdm-3p7o",
    "outputId": "1c0d92dd-0ebb-4bb6-e56b-85832b76c36e"
   },
   "outputs": [
    {
     "data": {
      "text/plain": [
       "7.5"
      ]
     },
     "execution_count": 31,
     "metadata": {},
     "output_type": "execute_result"
    }
   ],
   "source": [
    "var_int + var_float"
   ]
  },
  {
   "cell_type": "markdown",
   "metadata": {
    "id": "al9KtQ5VAvwj"
   },
   "source": [
    "### Вычитание"
   ]
  },
  {
   "cell_type": "code",
   "execution_count": null,
   "metadata": {
    "colab": {
     "base_uri": "https://localhost:8080/"
    },
    "id": "3iJofghi3v-I",
    "outputId": "d480c96b-b040-4565-8735-2457649b0137"
   },
   "outputs": [
    {
     "data": {
      "text/plain": [
       "2.5"
      ]
     },
     "execution_count": 89,
     "metadata": {},
     "output_type": "execute_result"
    }
   ],
   "source": [
    "var_int - var_float"
   ]
  },
  {
   "cell_type": "markdown",
   "metadata": {
    "id": "-3nf1SAfAyF3"
   },
   "source": [
    "### Деление"
   ]
  },
  {
   "cell_type": "code",
   "execution_count": null,
   "metadata": {
    "colab": {
     "base_uri": "https://localhost:8080/"
    },
    "id": "DoaAxTQ738Ke",
    "outputId": "2898d7f1-0022-4e21-cc7a-2a1cb8d0b40f"
   },
   "outputs": [
    {
     "data": {
      "text/plain": [
       "2.0"
      ]
     },
     "execution_count": 34,
     "metadata": {},
     "output_type": "execute_result"
    }
   ],
   "source": [
    "var_int / var_float"
   ]
  },
  {
   "cell_type": "markdown",
   "metadata": {
    "id": "zuDm4rg9A0HG"
   },
   "source": [
    "### Взятие целой части при делении"
   ]
  },
  {
   "cell_type": "code",
   "execution_count": null,
   "metadata": {
    "id": "5FnF09nN4ijC"
   },
   "outputs": [],
   "source": [
    "var_int = 5\n",
    "var_int2 = 2"
   ]
  },
  {
   "cell_type": "code",
   "execution_count": null,
   "metadata": {
    "colab": {
     "base_uri": "https://localhost:8080/"
    },
    "id": "CeWsha7w4DgK",
    "outputId": "0bcf64d6-3938-4ba5-ace0-4a4682e86425"
   },
   "outputs": [
    {
     "data": {
      "text/plain": [
       "2"
      ]
     },
     "execution_count": 49,
     "metadata": {},
     "output_type": "execute_result"
    }
   ],
   "source": [
    "var_int // var_int2"
   ]
  },
  {
   "cell_type": "markdown",
   "metadata": {
    "id": "aW2gXjNVA44n"
   },
   "source": [
    "### Взятие остатка при делении"
   ]
  },
  {
   "cell_type": "code",
   "execution_count": null,
   "metadata": {
    "colab": {
     "base_uri": "https://localhost:8080/"
    },
    "id": "vIc8DU8q43Dl",
    "outputId": "3a0512ae-32da-4328-84f4-5746d810f217"
   },
   "outputs": [
    {
     "data": {
      "text/plain": [
       "1"
      ]
     },
     "execution_count": 50,
     "metadata": {},
     "output_type": "execute_result"
    }
   ],
   "source": [
    "var_int % var_int2"
   ]
  },
  {
   "cell_type": "markdown",
   "metadata": {
    "id": "IarQRUiqA7Mm"
   },
   "source": [
    "### Умножение"
   ]
  },
  {
   "cell_type": "code",
   "execution_count": null,
   "metadata": {
    "colab": {
     "base_uri": "https://localhost:8080/"
    },
    "id": "Y7HciyiA4Dig",
    "outputId": "a7de0674-a12b-48cb-af90-78338c65e157"
   },
   "outputs": [
    {
     "data": {
      "text/plain": [
       "7.5"
      ]
     },
     "execution_count": 42,
     "metadata": {},
     "output_type": "execute_result"
    }
   ],
   "source": [
    "var_int * var_float"
   ]
  },
  {
   "cell_type": "markdown",
   "metadata": {
    "id": "lhoxkeo8A9O2"
   },
   "source": [
    "### Возведение в степень"
   ]
  },
  {
   "cell_type": "code",
   "execution_count": null,
   "metadata": {
    "colab": {
     "base_uri": "https://localhost:8080/"
    },
    "id": "iG_jtPBQ4DlE",
    "outputId": "680f35ac-be61-40c7-bbf5-69d7bc7e744a"
   },
   "outputs": [
    {
     "data": {
      "text/plain": [
       "9"
      ]
     },
     "execution_count": 43,
     "metadata": {},
     "output_type": "execute_result"
    }
   ],
   "source": [
    "var_int ** 2"
   ]
  },
  {
   "cell_type": "markdown",
   "metadata": {
    "id": "WrJ-Taii5KyV"
   },
   "source": [
    "## Условные операторы"
   ]
  },
  {
   "cell_type": "code",
   "execution_count": 14,
   "metadata": {
    "id": "UEifKNGp5NbL"
   },
   "outputs": [],
   "source": [
    "a = 5\n",
    "b = 5"
   ]
  },
  {
   "cell_type": "code",
   "execution_count": 13,
   "metadata": {},
   "outputs": [
    {
     "data": {
      "text/plain": [
       "False"
      ]
     },
     "execution_count": 13,
     "metadata": {},
     "output_type": "execute_result"
    }
   ],
   "source": [
    "a == b"
   ]
  },
  {
   "cell_type": "code",
   "execution_count": 15,
   "metadata": {
    "colab": {
     "base_uri": "https://localhost:8080/"
    },
    "id": "eiPTnC8i5dCr",
    "outputId": "5ad26353-df39-4741-c7ba-5b23bbac2d07"
   },
   "outputs": [
    {
     "name": "stdout",
     "output_type": "stream",
     "text": [
      "equal\n"
     ]
    }
   ],
   "source": [
    "# проверка на равенство\n",
    "\n",
    "if (a == b):\n",
    "    print('equal')"
   ]
  },
  {
   "cell_type": "code",
   "execution_count": 18,
   "metadata": {
    "id": "edk0zTkX6iMw"
   },
   "outputs": [],
   "source": [
    "a = 5\n",
    "b = 2"
   ]
  },
  {
   "cell_type": "code",
   "execution_count": 17,
   "metadata": {
    "colab": {
     "base_uri": "https://localhost:8080/"
    },
    "id": "G03bgTC65199",
    "outputId": "488c4787-eceb-40b7-c1b1-5f69f9dc6ce5"
   },
   "outputs": [
    {
     "name": "stdout",
     "output_type": "stream",
     "text": [
      "equal\n"
     ]
    }
   ],
   "source": [
    "# сравнение чисел\n",
    "\n",
    "if (a > b):\n",
    "    print('greater')\n",
    "elif (a < b):\n",
    "    print('less')\n",
    "else:\n",
    "    print('equal')"
   ]
  },
  {
   "cell_type": "code",
   "execution_count": 19,
   "metadata": {
    "id": "NOzfc7lA6jSl"
   },
   "outputs": [
    {
     "name": "stdout",
     "output_type": "stream",
     "text": [
      "greater\n",
      "odd\n"
     ]
    }
   ],
   "source": [
    "# вложенные условные операторы\n",
    "\n",
    "if (a > b):\n",
    "    print('greater')\n",
    "    if (a % 2 == 0):\n",
    "        print('even')\n",
    "    else:\n",
    "        print('odd')\n",
    "elif (a < b):\n",
    "    print('less')\n",
    "else:\n",
    "    print('equal')"
   ]
  },
  {
   "cell_type": "code",
   "execution_count": null,
   "metadata": {
    "id": "dJf-qwoX7cHD"
   },
   "outputs": [],
   "source": [
    "a = 2\n",
    "b = 4"
   ]
  },
  {
   "cell_type": "code",
   "execution_count": null,
   "metadata": {
    "colab": {
     "base_uri": "https://localhost:8080/"
    },
    "id": "7XDfhPXt7cJ8",
    "outputId": "9b1aad85-9dbc-426c-8254-1bb33dcc7056"
   },
   "outputs": [
    {
     "name": "stdout",
     "output_type": "stream",
     "text": [
      "odd\n"
     ]
    }
   ],
   "source": [
    "# сложные условия с и\n",
    "\n",
    "if ((a > b) and (a % 2 == 0)):\n",
    "    print('greater and even')\n",
    "else:\n",
    "    print('odd')"
   ]
  },
  {
   "cell_type": "code",
   "execution_count": 21,
   "metadata": {},
   "outputs": [
    {
     "data": {
      "text/plain": [
       "True"
      ]
     },
     "execution_count": 21,
     "metadata": {},
     "output_type": "execute_result"
    }
   ],
   "source": [
    "True or False "
   ]
  },
  {
   "cell_type": "code",
   "execution_count": null,
   "metadata": {
    "id": "jm-BaOuR-CZY"
   },
   "outputs": [],
   "source": [
    "a = 3\n",
    "b = 4"
   ]
  },
  {
   "cell_type": "code",
   "execution_count": null,
   "metadata": {
    "colab": {
     "base_uri": "https://localhost:8080/"
    },
    "id": "HJoaAnoY96E9",
    "outputId": "ee805666-5f78-46e8-fe6c-dc5549a38079"
   },
   "outputs": [
    {
     "name": "stdout",
     "output_type": "stream",
     "text": [
      "odd\n"
     ]
    }
   ],
   "source": [
    "# сложные условия с или\n",
    "\n",
    "if ((a > b) or (a % 2 == 0)):\n",
    "    print('greater or even')\n",
    "else:\n",
    "    print('odd')"
   ]
  },
  {
   "cell_type": "markdown",
   "metadata": {
    "id": "W7iNavU47ge2"
   },
   "source": [
    "## Циклы\n"
   ]
  },
  {
   "cell_type": "markdown",
   "metadata": {
    "id": "sEczxuJIBMCv"
   },
   "source": [
    "### while"
   ]
  },
  {
   "cell_type": "code",
   "execution_count": 22,
   "metadata": {
    "colab": {
     "base_uri": "https://localhost:8080/"
    },
    "id": "EJIOk_n97pH1",
    "outputId": "59553055-8600-4107-a8d4-6cf10220fb23"
   },
   "outputs": [
    {
     "name": "stdout",
     "output_type": "stream",
     "text": [
      "0\n",
      "1\n",
      "2\n"
     ]
    }
   ],
   "source": [
    "i = 0\n",
    "k = 1\n",
    "while (k <= 3) and (i <= 5):\n",
    "    print(i)\n",
    "    i += 1\n",
    "    k += 1"
   ]
  },
  {
   "cell_type": "code",
   "execution_count": null,
   "metadata": {
    "id": "-1zKYkcO8Cm6"
   },
   "outputs": [],
   "source": [
    "# Бесконечный цикл!\n",
    "\n",
    "# i = 0\n",
    "# while (i <= 2):\n",
    "#     print(i)"
   ]
  },
  {
   "cell_type": "markdown",
   "metadata": {
    "id": "qtnWUw1_BQ7e"
   },
   "source": [
    "### For"
   ]
  },
  {
   "cell_type": "code",
   "execution_count": 25,
   "metadata": {
    "colab": {
     "base_uri": "https://localhost:8080/"
    },
    "id": "zaMfHEMA7hdn",
    "outputId": "b3f677df-b357-4385-9ca3-3fa1cba9f440"
   },
   "outputs": [
    {
     "name": "stdout",
     "output_type": "stream",
     "text": [
      "0\n",
      "1\n",
      "2\n",
      "3\n",
      "4\n",
      "5\n"
     ]
    }
   ],
   "source": [
    "for i in range(0, 6):\n",
    "    print(i)"
   ]
  },
  {
   "cell_type": "code",
   "execution_count": null,
   "metadata": {
    "colab": {
     "base_uri": "https://localhost:8080/"
    },
    "id": "JVFC-aYX9Jdd",
    "outputId": "f6ec3644-ee69-4422-9526-fe3c7bdfda2a"
   },
   "outputs": [
    {
     "name": "stdout",
     "output_type": "stream",
     "text": [
      "0\n",
      "2\n",
      "4\n"
     ]
    }
   ],
   "source": [
    "for i in range(0, 6, 2):\n",
    "    print(i)"
   ]
  },
  {
   "cell_type": "markdown",
   "metadata": {
    "id": "nF1gKkQMWovv"
   },
   "source": [
    "### Эквивалентность"
   ]
  },
  {
   "cell_type": "code",
   "execution_count": null,
   "metadata": {
    "id": "b9OkQwpWWsKw"
   },
   "outputs": [],
   "source": [
    "# Следующие циклы эквивалентны\n",
    "\n",
    "\n",
    "# for i in range(0, N):\n",
    "#     ....\n",
    "\n",
    "\n",
    "\n",
    "# i = 0\n",
    "# while i < N:\n",
    "#     ....\n",
    "#     i += 1"
   ]
  },
  {
   "cell_type": "markdown",
   "metadata": {
    "id": "lEdzCPszB915"
   },
   "source": [
    "## Задачи"
   ]
  },
  {
   "cell_type": "markdown",
   "metadata": {
    "id": "TTZGVJTLCAiO"
   },
   "source": [
    "![Снимок экрана 2023-11-10 в 19.21.44.png](data:image/png;base64,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)"
   ]
  },
  {
   "cell_type": "markdown",
   "metadata": {
    "id": "5l57X-6xF0mj"
   },
   "source": [
    "### Задача 1"
   ]
  },
  {
   "cell_type": "code",
   "execution_count": null,
   "metadata": {
    "colab": {
     "base_uri": "https://localhost:8080/"
    },
    "id": "HJbt7EBXF2b-",
    "outputId": "74938c83-2fd5-443e-b645-d1fc851ec7ca"
   },
   "outputs": [
    {
     "name": "stdout",
     "output_type": "stream",
     "text": [
      "2\n"
     ]
    }
   ],
   "source": [
    "pi = 3.14159\n",
    "r = float(input())"
   ]
  },
  {
   "cell_type": "code",
   "execution_count": null,
   "metadata": {
    "colab": {
     "base_uri": "https://localhost:8080/"
    },
    "id": "P9k-f-vIF9tc",
    "outputId": "108e3932-cb4a-4cc7-f7bc-9acce0bb1c3e"
   },
   "outputs": [
    {
     "name": "stdout",
     "output_type": "stream",
     "text": [
      "Площадь круга равна: 12.56636 радиус: 2\n"
     ]
    }
   ],
   "source": [
    "S = pi * r ** 2\n",
    "print('Площадь круга равна:', S, 'радиус:', r)"
   ]
  },
  {
   "cell_type": "code",
   "execution_count": null,
   "metadata": {
    "colab": {
     "base_uri": "https://localhost:8080/"
    },
    "id": "G2NGUTAiGi3u",
    "outputId": "7263fbaf-a251-4df2-875c-786ca1724892"
   },
   "outputs": [
    {
     "name": "stdout",
     "output_type": "stream",
     "text": [
      "Площадь круга равна: {S} радиус: {r}\n",
      "Площадь круга равна: 12.56636 радиус: 2\n"
     ]
    }
   ],
   "source": [
    "print('Площадь круга равна: {S} радиус: {r}')\n",
    "print(f'Площадь круга равна: {S} радиус: {r}')"
   ]
  },
  {
   "cell_type": "code",
   "execution_count": null,
   "metadata": {
    "id": "fymUXAQPHMwn"
   },
   "outputs": [],
   "source": [
    "x = 2\n",
    "y = 3"
   ]
  },
  {
   "cell_type": "markdown",
   "metadata": {
    "id": "T2uYrnXDV_Lc"
   },
   "source": [
    "### Задача 2"
   ]
  },
  {
   "cell_type": "code",
   "execution_count": null,
   "metadata": {
    "colab": {
     "base_uri": "https://localhost:8080/"
    },
    "id": "ntDN5rL_HXMW",
    "outputId": "d55de205-204b-402f-ef7a-f88ecc2484a7"
   },
   "outputs": [
    {
     "name": "stdout",
     "output_type": "stream",
     "text": [
      "3 2\n"
     ]
    }
   ],
   "source": [
    "z = x\n",
    "x = y\n",
    "y = z\n",
    "print(x, y)"
   ]
  },
  {
   "cell_type": "code",
   "execution_count": null,
   "metadata": {
    "id": "f3L79PUGHc5O"
   },
   "outputs": [],
   "source": [
    "x, y = y, x"
   ]
  },
  {
   "cell_type": "code",
   "execution_count": null,
   "metadata": {
    "colab": {
     "base_uri": "https://localhost:8080/"
    },
    "id": "CxtKOUkbHeml",
    "outputId": "d8f62e79-1479-48f5-bfbe-fb8efb525e86"
   },
   "outputs": [
    {
     "name": "stdout",
     "output_type": "stream",
     "text": [
      "3 2\n"
     ]
    }
   ],
   "source": [
    "print(x, y)"
   ]
  },
  {
   "cell_type": "markdown",
   "metadata": {
    "id": "W8GRBgbvWAeh"
   },
   "source": [
    "### Задача 3"
   ]
  },
  {
   "cell_type": "code",
   "execution_count": null,
   "metadata": {
    "id": "8mF9M34eJBYM"
   },
   "outputs": [],
   "source": [
    "n = 61"
   ]
  },
  {
   "cell_type": "code",
   "execution_count": null,
   "metadata": {
    "colab": {
     "base_uri": "https://localhost:8080/"
    },
    "id": "9eHyxYWsJCfe",
    "outputId": "47f73dc0-33f6-45cb-8a53-a33b26d02bfa"
   },
   "outputs": [
    {
     "name": "stdout",
     "output_type": "stream",
     "text": [
      "Не делится ни на что из этого\n"
     ]
    }
   ],
   "source": [
    "if (n % 2 == 0) and (n % 3 == 0) and (n % 5 == 0):\n",
    "    print('Делится на все')\n",
    "elif (n % 2 == 0):\n",
    "    print('Делится на 2')\n",
    "elif (n % 3 == 0):\n",
    "    print('Делится на 3')\n",
    "elif (n % 5 == 0):\n",
    "    print('Делится на 5')\n",
    "else:\n",
    "    print(\"Не делится ни на что из этого\")\n"
   ]
  },
  {
   "cell_type": "markdown",
   "metadata": {
    "id": "0NMF9gfnWBmu"
   },
   "source": [
    "### Задача 4"
   ]
  },
  {
   "cell_type": "code",
   "execution_count": null,
   "metadata": {
    "colab": {
     "base_uri": "https://localhost:8080/"
    },
    "id": "O71FjIkwKrgw",
    "outputId": "c475590b-7d27-4db5-905a-920308f1b84e"
   },
   "outputs": [
    {
     "name": "stdout",
     "output_type": "stream",
     "text": [
      "3\n",
      "i: 0 sum: 0\n",
      "2\n",
      "i: 1 sum: 2.0\n",
      "2.2\n",
      "i: 2 sum: 4.2\n",
      "4\n",
      "8.2\n"
     ]
    }
   ],
   "source": [
    "N = int(input())\n",
    "\n",
    "sum_ = 0\n",
    "\n",
    "for i in range(0, N):\n",
    "    print(f'i: {i} sum: {sum_}')\n",
    "    num = float(input())\n",
    "    sum_ += num\n",
    "\n",
    "print(sum_)\n"
   ]
  },
  {
   "cell_type": "markdown",
   "metadata": {
    "id": "mWj_qLd8LLmp"
   },
   "source": [
    "### Задача 6"
   ]
  },
  {
   "cell_type": "code",
   "execution_count": null,
   "metadata": {
    "colab": {
     "base_uri": "https://localhost:8080/"
    },
    "id": "7klg5gJ4NUOb",
    "outputId": "d6493a30-d063-409a-bf77-37505de538f4"
   },
   "outputs": [
    {
     "name": "stdout",
     "output_type": "stream",
     "text": [
      "9\n"
     ]
    }
   ],
   "source": [
    "n = int(input())"
   ]
  },
  {
   "cell_type": "code",
   "execution_count": null,
   "metadata": {
    "id": "4TYb32yKNXoT"
   },
   "outputs": [],
   "source": [
    "# Способ 1\n",
    "if ((n ** 0.5) % 1 == 0):\n",
    "    print('Квадрат числа')"
   ]
  },
  {
   "cell_type": "code",
   "execution_count": null,
   "metadata": {
    "id": "hF51U-a0PS_7"
   },
   "outputs": [],
   "source": [
    "# Способ 2\n",
    "x  = int((n ** 0.5))\n",
    "\n",
    "if x * x == n:\n",
    "    print('Квадрат числа')"
   ]
  },
  {
   "cell_type": "code",
   "execution_count": null,
   "metadata": {
    "id": "3PZBweGMOBpl"
   },
   "outputs": [],
   "source": [
    "# Способ 3\n",
    "n = int(input())\n",
    "\n",
    "flag = False\n",
    "for i in range(0, int(n ** 0.5) + 1):\n",
    "    if i ** 2 == n:\n",
    "        print('Квадрат')\n",
    "        flag = True\n",
    "if not flag:\n",
    "    print('Квадратом не является')"
   ]
  },
  {
   "cell_type": "code",
   "execution_count": null,
   "metadata": {
    "id": "_B30bDDSP2ow"
   },
   "outputs": [],
   "source": []
  },
  {
   "cell_type": "markdown",
   "metadata": {
    "id": "gjtdduV4LgYZ"
   },
   "source": [
    "### Задача 7"
   ]
  },
  {
   "cell_type": "code",
   "execution_count": null,
   "metadata": {
    "colab": {
     "base_uri": "https://localhost:8080/"
    },
    "id": "-LSwiemVP2tB",
    "outputId": "8d70ac5d-46bd-4f52-9d2b-8d50045a17a0"
   },
   "outputs": [
    {
     "name": "stdout",
     "output_type": "stream",
     "text": [
      "21\n",
      "Кубом не является\n"
     ]
    }
   ],
   "source": [
    "n = int(input())\n",
    "\n",
    "flag = False\n",
    "for i in range(0, n):\n",
    "    if i ** 3 == n:\n",
    "        print('Куб')\n",
    "        flag = True\n",
    "if not flag:\n",
    "    print('Кубом не является')"
   ]
  },
  {
   "cell_type": "markdown",
   "metadata": {
    "id": "E1wSmFnMLxsh"
   },
   "source": [
    "### Задача 8"
   ]
  },
  {
   "cell_type": "code",
   "execution_count": null,
   "metadata": {
    "colab": {
     "base_uri": "https://localhost:8080/"
    },
    "id": "-SyoX7d0P6-j",
    "outputId": "14788f9a-7d66-4653-c0db-131ed194e644"
   },
   "outputs": [
    {
     "name": "stdout",
     "output_type": "stream",
     "text": [
      "86400\n",
      "Дни: 1, Часы: 0, Минуты: 0, Секунды: 0\n"
     ]
    }
   ],
   "source": [
    "total_sec = float(input())\n",
    "\n",
    "days = int(total_sec / 86_400)\n",
    "hours = int((total_sec - (days * 86_400)) / 3_600)\n",
    "minutes = int((total_sec - days * 86_400 - hours * 3_600) / 60)\n",
    "sec = int(total_sec - days * 86_400 - hours * 3_600 - minutes * 60)\n",
    "print(f'Дни: {days}, Часы: {hours}, Минуты: {minutes}, Секунды: {sec}')"
   ]
  },
  {
   "cell_type": "markdown",
   "metadata": {
    "id": "s0HFlRv-L194"
   },
   "source": [
    "### Задача 9"
   ]
  },
  {
   "cell_type": "code",
   "execution_count": null,
   "metadata": {
    "colab": {
     "base_uri": "https://localhost:8080/"
    },
    "id": "vLNezckbTEt_",
    "outputId": "801b33d5-45d4-4b06-e198-9c58ec03bf90"
   },
   "outputs": [
    {
     "name": "stdout",
     "output_type": "stream",
     "text": [
      "4561\n",
      "16\n"
     ]
    }
   ],
   "source": [
    "# Способ 1\n",
    "n = int(input())\n",
    "\n",
    "sum_ = 0\n",
    "\n",
    "while n != 0:\n",
    "    sum_ += n % 10\n",
    "    n = n // 10\n",
    "\n",
    "print(sum_)"
   ]
  }
 ],
 "metadata": {
  "colab": {
   "provenance": []
  },
  "kernelspec": {
   "display_name": "chat-llm-Uk3avZmV-py3.11",
   "language": "python",
   "name": "python3"
  },
  "language_info": {
   "codemirror_mode": {
    "name": "ipython",
    "version": 3
   },
   "file_extension": ".py",
   "mimetype": "text/x-python",
   "name": "python",
   "nbconvert_exporter": "python",
   "pygments_lexer": "ipython3",
   "version": "3.11.0"
  }
 },
 "nbformat": 4,
 "nbformat_minor": 0
}
