{
 "cells": [
  {
   "cell_type": "markdown",
   "id": "73ca724d",
   "metadata": {
    "id": "73ca724d"
   },
   "source": [
    "## ПОВТОРЕНИЕ"
   ]
  },
  {
   "cell_type": "markdown",
   "id": "9d2f0203",
   "metadata": {
    "id": "9d2f0203"
   },
   "source": [
    "1) Напишите программу для перевода оценки из 10-балльной шкалы в пятибальную\n",
    "\n",
    "2) У вас есть список с баллами за все достижения студентов в их портфолио. Балл за портфолио = сумма баллов за все достижения в портфолио. Балл за портфолио не может быть выше 100. Т.е. если сумма баллов выше 100, балл за портфолио 100. Напишите программу, которая считает балл за портфолио\n",
    "\n",
    "3) У вас есть список с оценками студентов по 10-балльной шкале. Напишите программу, которая печатает только отличные оценки из этого списка"
   ]
  },
  {
   "cell_type": "markdown",
   "id": "817ec708",
   "metadata": {},
   "source": [
    "### Задача 1"
   ]
  },
  {
   "cell_type": "code",
   "execution_count": null,
   "id": "24250902",
   "metadata": {
    "id": "24250902"
   },
   "outputs": [],
   "source": [
    "a = int(input())\n",
    "if a == 1:\n",
    "    print(2)\n",
    "if a == 2:\n",
    "    print(2)\n",
    "if a == 3: \n",
    "    print(2)\n",
    "if a == 4: \n",
    "    print(3)\n",
    "if a == 5: \n",
    "    print(3)\n",
    "if a == 6: \n",
    "    print(4)\n",
    "if a == 7: \n",
    "    print(4)\n",
    "if a == 8: \n",
    "    print(4)\n",
    "if a == 9: \n",
    "    print(5)\n",
    "if a == 10: \n",
    "    print(5)\n",
    "\n"
   ]
  },
  {
   "cell_type": "code",
   "execution_count": 33,
   "id": "f19e12a0",
   "metadata": {},
   "outputs": [
    {
     "name": "stdout",
     "output_type": "stream",
     "text": [
      "5\n"
     ]
    }
   ],
   "source": [
    "a = int(input('Введите число от 0 до 10'))\n",
    "\n",
    "if (a < 0) | (a > 10):\n",
    "    print('Некорректное число')\n",
    "else:\n",
    "    if 4 > a:\n",
    "        print(2)\n",
    "    elif 4 <= a <= 5:\n",
    "        print(3)\n",
    "    elif 6 <= a <= 7:\n",
    "        print(4)\n",
    "    elif 8 <= a <= 10:\n",
    "        print(5)\n"
   ]
  },
  {
   "cell_type": "code",
   "execution_count": null,
   "id": "15cef627",
   "metadata": {},
   "outputs": [],
   "source": [
    "a = [5,7,8,10]"
   ]
  },
  {
   "cell_type": "code",
   "execution_count": null,
   "id": "b9c14784",
   "metadata": {},
   "outputs": [],
   "source": []
  },
  {
   "cell_type": "markdown",
   "id": "e6059b86",
   "metadata": {
    "id": "e6059b86"
   },
   "source": [
    "## СПИСКИ"
   ]
  },
  {
   "cell_type": "markdown",
   "id": "22b36dc3",
   "metadata": {
    "id": "22b36dc3"
   },
   "source": [
    "Список (list) — это упорядоченный набор элементов, каждый из которых имеет свой номер, или индекс, позволяющий быстро получить к нему доступ. Нумерация элементов в списке начинается с 0."
   ]
  },
  {
   "cell_type": "code",
   "execution_count": 34,
   "id": "cc27ded9",
   "metadata": {
    "id": "cc27ded9"
   },
   "outputs": [],
   "source": [
    "list1 = [] #пустой список\n",
    "list2 = [15, 16, 12, 45]\n",
    "list3 = ['John', 'Mike', 'Lila', 'Peter']\n",
    "\n",
    "list4 = [5,6,7,'Min']"
   ]
  },
  {
   "cell_type": "code",
   "execution_count": 35,
   "id": "fc57afaa",
   "metadata": {},
   "outputs": [
    {
     "data": {
      "text/plain": [
       "[5, 6, 7, 'Min']"
      ]
     },
     "execution_count": 35,
     "metadata": {},
     "output_type": "execute_result"
    }
   ],
   "source": [
    "list4"
   ]
  },
  {
   "cell_type": "code",
   "execution_count": 39,
   "id": "eaa7e2f2",
   "metadata": {
    "id": "eaa7e2f2",
    "outputId": "0e0105a8-2366-4390-94a0-6bbe12b419b4"
   },
   "outputs": [
    {
     "data": {
      "text/plain": [
       "45"
      ]
     },
     "execution_count": 39,
     "metadata": {},
     "output_type": "execute_result"
    }
   ],
   "source": [
    "list2[2]\n",
    "\n",
    "list2[-1]"
   ]
  },
  {
   "cell_type": "code",
   "execution_count": 48,
   "id": "9d471023",
   "metadata": {
    "id": "9d471023",
    "outputId": "6c60bac0-a006-4b5a-f758-a2995b8bca57"
   },
   "outputs": [
    {
     "data": {
      "text/plain": [
       "[15, 12]"
      ]
     },
     "execution_count": 48,
     "metadata": {},
     "output_type": "execute_result"
    }
   ],
   "source": [
    "list2[::2]"
   ]
  },
  {
   "cell_type": "markdown",
   "id": "39817db7",
   "metadata": {
    "id": "39817db7"
   },
   "source": [
    "### ЧТО МОЖНО ДЕЛАТЬ СО СПИСКАМИ\n",
    "\n",
    "Методы\n",
    "\n",
    "- .append()\tметод для добавления элементов в список\n",
    "- .insert()\tдля добавления элементов в конкретное место в списке\n",
    "- .index()\tдля получения индекса элемента\n",
    "- .clear()\tдля очистки списка\n",
    "- .remove()\tдля удаления элемента списка\n",
    "- .pop() позволяет получить элемент по индексу удаляя его из последовательности\n",
    "- .reverse()\tчтобы развернуть список в обратном порядке\n",
    "- .count()\tдля подсчета числа вхождений элемента в список\n",
    "- sum()\tдля сложения элементов списка\n",
    "- min()\tпоказывает элемент с самым низким значением в списке\n",
    "- max()\tэлемент с самым высоким значением в списке"
   ]
  },
  {
   "cell_type": "code",
   "execution_count": null,
   "id": "e7834be0",
   "metadata": {},
   "outputs": [],
   "source": [
    "list2.append(5)"
   ]
  },
  {
   "cell_type": "code",
   "execution_count": 51,
   "id": "1e3f0b6b",
   "metadata": {},
   "outputs": [],
   "source": [
    "list2.insert(2, 5)"
   ]
  },
  {
   "cell_type": "code",
   "execution_count": null,
   "id": "e884de70",
   "metadata": {
    "id": "e884de70",
    "outputId": "1e245c0a-337d-41cf-b21c-cd9d8ae4a8ca"
   },
   "outputs": [
    {
     "data": {
      "text/plain": [
       "45"
      ]
     },
     "execution_count": 5,
     "metadata": {},
     "output_type": "execute_result"
    }
   ],
   "source": [
    "max(list2)"
   ]
  },
  {
   "cell_type": "code",
   "execution_count": null,
   "id": "a10ba144",
   "metadata": {
    "id": "a10ba144",
    "outputId": "01dae722-e646-40ad-b769-0409c83e27d9"
   },
   "outputs": [
    {
     "data": {
      "text/plain": [
       "1"
      ]
     },
     "execution_count": 9,
     "metadata": {},
     "output_type": "execute_result"
    }
   ],
   "source": [
    "list2.index(16)"
   ]
  },
  {
   "cell_type": "markdown",
   "id": "68b8ebb3",
   "metadata": {
    "id": "68b8ebb3"
   },
   "source": [
    "Списки можно суммировать"
   ]
  },
  {
   "cell_type": "code",
   "execution_count": 57,
   "id": "2fca2120",
   "metadata": {
    "id": "2fca2120",
    "outputId": "ee69cc27-bce5-46e4-b0a5-60464e83322c"
   },
   "outputs": [
    {
     "data": {
      "text/plain": [
       "[15, 16, 5, 12, 45, 5, 'John', 'Mike', 'Lila', 'Peter']"
      ]
     },
     "execution_count": 57,
     "metadata": {},
     "output_type": "execute_result"
    }
   ],
   "source": [
    "list2 + list3"
   ]
  },
  {
   "cell_type": "markdown",
   "id": "368e35df",
   "metadata": {
    "id": "368e35df"
   },
   "source": [
    "Списки можно изменять"
   ]
  },
  {
   "cell_type": "code",
   "execution_count": 58,
   "id": "d43b1499",
   "metadata": {
    "id": "d43b1499",
    "outputId": "6bc1d693-0064-4108-fdfb-1b28fb96cb6b"
   },
   "outputs": [
    {
     "data": {
      "text/plain": [
       "[2, 5, 3]"
      ]
     },
     "execution_count": 58,
     "metadata": {},
     "output_type": "execute_result"
    }
   ],
   "source": [
    "L = [2, 1, 3]\n",
    "L[1] = 5\n",
    "L"
   ]
  },
  {
   "cell_type": "markdown",
   "id": "5d7ec55a",
   "metadata": {
    "id": "5d7ec55a"
   },
   "source": [
    "### ЗАДАНИЕ 1\n",
    "\n",
    "У нас есть список фамилий школьников, родители которых дали согласие на участие в нашем исследовании.\n",
    "\n",
    "- а) В последний момент школьница с фамилией Шестакова принесла согласие. Добавьте ее в список\n",
    "- б) Сергей Тарасов заболел и отсутствует в школе в день проведения иссдедования. Удалите его из списка\n",
    "- в) Вы тестируете школьников в той очередности, в которой они представлены в списке. Коллега сказал, что 3 первых школьника уже прошли исследование. Выведете фамилии этих школьников\n",
    "- г) К вам подошел Вася и сказал, что в его фамилии ошибка. Он Ключарёв, а не Ключерев. Исправьте, пожалуйста"
   ]
  },
  {
   "cell_type": "code",
   "execution_count": 64,
   "id": "02307003",
   "metadata": {
    "id": "02307003",
    "outputId": "cc6a9418-5aa3-4c08-9e78-d0bcef48c2ee"
   },
   "outputs": [],
   "source": [
    "Surnames = ['Карданова', 'Тарасов', 'Угланова', 'Тюменева', 'Ключерев']"
   ]
  },
  {
   "cell_type": "code",
   "execution_count": 65,
   "id": "d0e81d75",
   "metadata": {},
   "outputs": [],
   "source": [
    "Surnames.append('Шестакова')"
   ]
  },
  {
   "cell_type": "code",
   "execution_count": 62,
   "id": "6fc26731",
   "metadata": {},
   "outputs": [],
   "source": [
    "Surnames.remove('Тарасов')"
   ]
  },
  {
   "cell_type": "code",
   "execution_count": 66,
   "id": "5f23fc76",
   "metadata": {},
   "outputs": [
    {
     "data": {
      "text/plain": [
       "'Тарасов'"
      ]
     },
     "execution_count": 66,
     "metadata": {},
     "output_type": "execute_result"
    }
   ],
   "source": [
    "Surnames.pop(1)"
   ]
  },
  {
   "cell_type": "code",
   "execution_count": 70,
   "id": "16d139e1",
   "metadata": {},
   "outputs": [
    {
     "data": {
      "text/plain": [
       "['Карданова', 'Угланова', 'Тюменева']"
      ]
     },
     "execution_count": 70,
     "metadata": {},
     "output_type": "execute_result"
    }
   ],
   "source": [
    "Surnames[0:3]"
   ]
  },
  {
   "cell_type": "code",
   "execution_count": 73,
   "id": "70b2911c",
   "metadata": {},
   "outputs": [
    {
     "data": {
      "text/plain": [
       "['Карданова', 'Угланова', 'Тюменева', 'Ключерёв', 'Шестакова']"
      ]
     },
     "execution_count": 73,
     "metadata": {},
     "output_type": "execute_result"
    }
   ],
   "source": [
    "Surnames[3] = 'Ключерёв'\n",
    "\n",
    "Surnames"
   ]
  },
  {
   "cell_type": "markdown",
   "id": "5abcd5fe",
   "metadata": {
    "id": "5abcd5fe"
   },
   "source": [
    "У нас также есть список с баллами этих школьников по ЕГЭ по русскому языку\n",
    "\n",
    "- д) Узнайте, как много стобалльников в списке\n",
    "- е) Узнайте минимальный балл в списке\n",
    "- ж) Узнайте средний балл по списку"
   ]
  },
  {
   "cell_type": "code",
   "execution_count": 74,
   "id": "27815525",
   "metadata": {
    "id": "27815525"
   },
   "outputs": [],
   "source": [
    "Exam = [100, 98, 90, 100, 95]"
   ]
  },
  {
   "cell_type": "code",
   "execution_count": 76,
   "id": "af941e6f",
   "metadata": {},
   "outputs": [
    {
     "data": {
      "text/plain": [
       "2"
      ]
     },
     "execution_count": 76,
     "metadata": {},
     "output_type": "execute_result"
    }
   ],
   "source": [
    "Exam.count(100)"
   ]
  },
  {
   "cell_type": "code",
   "execution_count": 77,
   "id": "6c3ed3e2",
   "metadata": {},
   "outputs": [
    {
     "data": {
      "text/plain": [
       "90"
      ]
     },
     "execution_count": 77,
     "metadata": {},
     "output_type": "execute_result"
    }
   ],
   "source": [
    "min(Exam)"
   ]
  },
  {
   "cell_type": "code",
   "execution_count": 79,
   "id": "d5e3b53d",
   "metadata": {},
   "outputs": [
    {
     "data": {
      "text/plain": [
       "96.6"
      ]
     },
     "execution_count": 79,
     "metadata": {},
     "output_type": "execute_result"
    }
   ],
   "source": [
    "sum(Exam)/len(Exam)"
   ]
  },
  {
   "cell_type": "markdown",
   "id": "3ba09613",
   "metadata": {
    "id": "3ba09613"
   },
   "source": [
    "## КОРТЕЖИ\n",
    "\n",
    "Элементы, хранящиеся в кортеже, могут быть любого типа. Они упорядочены и неизменяемы после создания.\n",
    "Про сходство и разницу между кортежами и списками можно почитать здесь: https://pythonist.ru/chem-otlichaetsya-kortezh-ot-spiska-v-python/"
   ]
  },
  {
   "cell_type": "code",
   "execution_count": 80,
   "id": "7ffcc603",
   "metadata": {
    "id": "7ffcc603"
   },
   "outputs": [],
   "source": [
    "#пустой кортеж\n",
    "empty_tuple = ()\n",
    "#кортеж с элементами: способ 1\n",
    "tuple_1 = (1, 2)\n",
    "#кортеж с элеметами: способ 2\n",
    "tuple_2 = tuple([1, 2])\n",
    "#кортеж с элеметами: способ 3\n",
    "tuple_3 = 1, 2"
   ]
  },
  {
   "cell_type": "code",
   "execution_count": 83,
   "id": "49282563",
   "metadata": {},
   "outputs": [
    {
     "data": {
      "text/plain": [
       "(1, 2)"
      ]
     },
     "execution_count": 83,
     "metadata": {},
     "output_type": "execute_result"
    }
   ],
   "source": [
    "tuple_3"
   ]
  },
  {
   "cell_type": "code",
   "execution_count": 86,
   "id": "9803a617",
   "metadata": {
    "id": "9803a617"
   },
   "outputs": [
    {
     "name": "stdout",
     "output_type": "stream",
     "text": [
      "5 2\n"
     ]
    }
   ],
   "source": [
    "#кортежи удобно использовать, чтобы менять переменные местами\n",
    "(x, y) = (2, 5)\n",
    "(x, y) = (y, x)\n",
    "print(x, y)"
   ]
  },
  {
   "cell_type": "code",
   "execution_count": 84,
   "id": "e4081832",
   "metadata": {},
   "outputs": [],
   "source": [
    "(x, y) = (2, 5)"
   ]
  },
  {
   "cell_type": "code",
   "execution_count": 85,
   "id": "8073fca2",
   "metadata": {},
   "outputs": [
    {
     "data": {
      "text/plain": [
       "(2, 5)"
      ]
     },
     "execution_count": 85,
     "metadata": {},
     "output_type": "execute_result"
    }
   ],
   "source": [
    "(x, y)"
   ]
  },
  {
   "cell_type": "markdown",
   "id": "f2b8b651",
   "metadata": {
    "id": "f2b8b651"
   },
   "source": [
    "### ЧТО МОЖНО ДЕЛАТЬ С КОРТЕЖАМИ\n",
    "\n",
    "Методы\n",
    "\n",
    "- .index() — используется для вывода индекса элемента.\n",
    "- .count() — используется для подсчета количества элементов в кортеже.\n",
    "- sum() — складывает все элементы кортежа.\n",
    "- min() — показывает элемент кортежа с наименьшим значением.\n",
    "- max() — показывает элемент кортежа с максимальным значением.\n",
    "- len() — показывает количество элементов кортежа."
   ]
  },
  {
   "cell_type": "code",
   "execution_count": 87,
   "id": "1b961995",
   "metadata": {
    "id": "1b961995",
    "outputId": "d6398c0e-b8f6-41d2-ebfd-3e0598275564"
   },
   "outputs": [
    {
     "data": {
      "text/plain": [
       "('Карданова', 'Угланова', 'Тюменева', 'Ключерёв', 'Шестакова')"
      ]
     },
     "execution_count": 87,
     "metadata": {},
     "output_type": "execute_result"
    }
   ],
   "source": [
    "#превратим список с фамилиями в кортеж\n",
    "Tuple_surnames = tuple(Surnames)\n",
    "Tuple_surnames"
   ]
  },
  {
   "cell_type": "code",
   "execution_count": 90,
   "id": "8db45426",
   "metadata": {},
   "outputs": [
    {
     "data": {
      "text/plain": [
       "1"
      ]
     },
     "execution_count": 90,
     "metadata": {},
     "output_type": "execute_result"
    }
   ],
   "source": [
    "Tuple_surnames.count('Угланова')"
   ]
  },
  {
   "cell_type": "code",
   "execution_count": 91,
   "id": "558624a8",
   "metadata": {},
   "outputs": [
    {
     "ename": "TypeError",
     "evalue": "'tuple' object does not support item assignment",
     "output_type": "error",
     "traceback": [
      "\u001b[0;31m---------------------------------------------------------------------------\u001b[0m",
      "\u001b[0;31mTypeError\u001b[0m                                 Traceback (most recent call last)",
      "Cell \u001b[0;32mIn[91], line 1\u001b[0m\n\u001b[0;32m----> 1\u001b[0m \u001b[43mTuple_surnames\u001b[49m\u001b[43m[\u001b[49m\u001b[38;5;241;43m0\u001b[39;49m\u001b[43m]\u001b[49m \u001b[38;5;241m=\u001b[39m \u001b[38;5;241m1\u001b[39m\n",
      "\u001b[0;31mTypeError\u001b[0m: 'tuple' object does not support item assignment"
     ]
    }
   ],
   "source": [
    "Tuple_surnames[0] = 1"
   ]
  },
  {
   "cell_type": "markdown",
   "id": "e6db0887",
   "metadata": {
    "id": "e6db0887"
   },
   "source": [
    "## СЛОВАРИ\n",
    "\n",
    "Словарь — неупорядоченная структура данных, которая позволяет хранить пары «ключ — значение»"
   ]
  },
  {
   "cell_type": "code",
   "execution_count": null,
   "id": "ec1f6694",
   "metadata": {
    "id": "ec1f6694",
    "outputId": "0d8bb5b7-219f-4a6c-ce76-3881d5753c51"
   },
   "outputs": [
    {
     "data": {
      "text/plain": [
       "{'Карданова': 100, 'Угланова': 98}"
      ]
     },
     "execution_count": 29,
     "metadata": {},
     "output_type": "execute_result"
    }
   ],
   "source": [
    "# как создать словарь с нуля\n",
    "dictionary = {\n",
    "  'Карданова' : 100,\n",
    "  'Угланова' : 98\n",
    "}\n",
    "dictionary"
   ]
  },
  {
   "cell_type": "code",
   "execution_count": null,
   "id": "82bca3aa",
   "metadata": {},
   "outputs": [],
   "source": [
    "dictionary = {\n",
    "  'Карданова' : 100,\n",
    "  'Угланова' : 98,\n",
    "  True : 100,\n",
    "  True : 50\n",
    "}"
   ]
  },
  {
   "cell_type": "code",
   "execution_count": 98,
   "id": "bf26ee00",
   "metadata": {},
   "outputs": [
    {
     "data": {
      "text/plain": [
       "{'Карданова': 100, 'Угланова': 98, True: 50}"
      ]
     },
     "execution_count": 98,
     "metadata": {},
     "output_type": "execute_result"
    }
   ],
   "source": [
    "dictionary"
   ]
  },
  {
   "cell_type": "code",
   "execution_count": null,
   "id": "805c09f9",
   "metadata": {},
   "outputs": [],
   "source": [
    "dict"
   ]
  },
  {
   "cell_type": "code",
   "execution_count": 102,
   "id": "2a376e32",
   "metadata": {
    "id": "2a376e32",
    "outputId": "c16f1c7a-b051-4946-da0d-8159194dfbca"
   },
   "outputs": [
    {
     "data": {
      "text/plain": [
       "{'Карданова': 100,\n",
       " 'Угланова': 98,\n",
       " 'Тюменева': 90,\n",
       " 'Ключерёв': 100,\n",
       " 'Шестакова': 95}"
      ]
     },
     "execution_count": 102,
     "metadata": {},
     "output_type": "execute_result"
    }
   ],
   "source": [
    "# как создать словарь из двух списков\n",
    "score_dictionary = dict(zip(Surnames, Exam))\n",
    "score_dictionary"
   ]
  },
  {
   "cell_type": "code",
   "execution_count": 114,
   "id": "dd964206",
   "metadata": {},
   "outputs": [],
   "source": [
    "D = {\n",
    "    (5,6): (1,2)\n",
    "}"
   ]
  },
  {
   "cell_type": "code",
   "execution_count": 117,
   "id": "4b80ce4c",
   "metadata": {},
   "outputs": [
    {
     "data": {
      "text/plain": [
       "1"
      ]
     },
     "execution_count": 117,
     "metadata": {},
     "output_type": "execute_result"
    }
   ],
   "source": [
    "D[(5,6)][0]"
   ]
  },
  {
   "cell_type": "markdown",
   "id": "912ca621",
   "metadata": {
    "id": "912ca621"
   },
   "source": [
    "### ЗАДАНИЕ 2.\n",
    "\n",
    "Это задание для самостоятельной работы. Прочитайте о словарях вот здесь: https://skillbox.ru/media/code/slovari-v-python-chto-nuzhno-znat-i-kak-polzovatsya/?ysclid=lox4wv7o23768913401\n",
    "\n",
    "И выполните задания со словарем score_dictionary:\n",
    "\n",
    "- а) Вывести балл ЕГЭ для Тюменевой\n",
    "- б) Добавить в словарь школьницу с фамилией Куликова, у которой 91 балл за ЕГЭ\n",
    "- в) Удалить из словаря Шестакову и её балл"
   ]
  },
  {
   "cell_type": "code",
   "execution_count": null,
   "id": "9e5e9137",
   "metadata": {
    "id": "9e5e9137"
   },
   "outputs": [
    {
     "data": {
      "text/plain": [
       "dict_items([('Карданова', 100), ('Угланова', 98), ('Тюменева', 90), ('Ключерёв', 100), ('Шестакова', 95)])"
      ]
     },
     "execution_count": 105,
     "metadata": {},
     "output_type": "execute_result"
    }
   ],
   "source": [
    "score_dictionary."
   ]
  },
  {
   "cell_type": "markdown",
   "id": "39b3bac7",
   "metadata": {
    "id": "39b3bac7"
   },
   "source": [
    "## ФУНКЦИИ\n",
    "\n",
    "Функция — это фрагмент программного кода, который решает какую-либо задачу. Его можно вызывать в любом месте основной программы. Функции помогают избегать дублирования кода при многократном его использовании"
   ]
  },
  {
   "cell_type": "code",
   "execution_count": null,
   "id": "034f62c6",
   "metadata": {
    "id": "034f62c6",
    "outputId": "e68f4498-86af-4005-8254-803a8ded29f7"
   },
   "outputs": [
    {
     "data": {
      "text/plain": [
       "7"
      ]
     },
     "execution_count": 35,
     "metadata": {},
     "output_type": "execute_result"
    }
   ],
   "source": [
    "def summa (x, y):\n",
    "    return (x + y)\n",
    "summa (3, 4)"
   ]
  },
  {
   "cell_type": "code",
   "execution_count": 111,
   "id": "01ef7286",
   "metadata": {},
   "outputs": [],
   "source": [
    "def Myfunc(a, b):\n",
    "    return a * b"
   ]
  },
  {
   "cell_type": "code",
   "execution_count": 112,
   "id": "074e9c8b",
   "metadata": {},
   "outputs": [
    {
     "data": {
      "text/plain": [
       "50"
      ]
     },
     "execution_count": 112,
     "metadata": {},
     "output_type": "execute_result"
    }
   ],
   "source": [
    "Myfunc(5, 10)"
   ]
  },
  {
   "cell_type": "code",
   "execution_count": 113,
   "id": "5063a589",
   "metadata": {
    "id": "5063a589",
    "outputId": "20075131-c2e6-4f20-84c5-3213d915b4ac"
   },
   "outputs": [
    {
     "data": {
      "text/plain": [
       "100"
      ]
     },
     "execution_count": 113,
     "metadata": {},
     "output_type": "execute_result"
    }
   ],
   "source": [
    "def score (surname):\n",
    "    return score_dictionary[surname]\n",
    "score('Карданова')"
   ]
  },
  {
   "cell_type": "markdown",
   "id": "78195f5d",
   "metadata": {
    "id": "78195f5d"
   },
   "source": [
    "### ЗАДАНИЕ 3.\n",
    "\n",
    "Директор школы разрешил выгрузить списки школьников и их баллы для вашего исследования. Они выгрузились в неудобном формате: \"Фамилия Имя Балл\".\n",
    "\n",
    "Напишите функцию, которая принимает на вход строку \"Фамилия Имя Балл\" (например, 'Маракшина Юлия 90') и возвращает словарь вида:\n",
    "\n",
    "- Фамилия: Маракшина\n",
    "- Имя: Юлия\n",
    "- Балл: 90\n",
    "\n",
    "Балл должен быть в числовом формате!\n",
    "\n",
    "Чтобы разделить строку, используйте функцию split"
   ]
  },
  {
   "cell_type": "code",
   "execution_count": null,
   "id": "ed999061",
   "metadata": {
    "id": "ed999061",
    "outputId": "a66d298a-5462-42e1-dfea-df9f3d828722"
   },
   "outputs": [
    {
     "data": {
      "text/plain": [
       "['Маракшина', 'Юлия', '90']"
      ]
     },
     "execution_count": 37,
     "metadata": {},
     "output_type": "execute_result"
    }
   ],
   "source": [
    "s = 'Маракшина Юлия 90'\n",
    "s.split()"
   ]
  },
  {
   "cell_type": "code",
   "execution_count": null,
   "id": "eb33cd01",
   "metadata": {
    "id": "eb33cd01"
   },
   "outputs": [],
   "source": [
    "def data_transform(string):"
   ]
  },
  {
   "cell_type": "code",
   "execution_count": null,
   "id": "d9990522",
   "metadata": {
    "id": "d9990522"
   },
   "outputs": [],
   "source": [
    "!pi"
   ]
  }
 ],
 "metadata": {
  "colab": {
   "provenance": []
  },
  "kernelspec": {
   "display_name": "chat-llm-Uk3avZmV-py3.11",
   "language": "python",
   "name": "python3"
  },
  "language_info": {
   "codemirror_mode": {
    "name": "ipython",
    "version": 3
   },
   "file_extension": ".py",
   "mimetype": "text/x-python",
   "name": "python",
   "nbconvert_exporter": "python",
   "pygments_lexer": "ipython3",
   "version": "3.11.0"
  }
 },
 "nbformat": 4,
 "nbformat_minor": 5
}
